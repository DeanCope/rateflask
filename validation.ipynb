{
 "metadata": {
  "name": "",
  "signature": "sha256:bda78d30956a488033a3273855aed47dc1b505c77d6bb36cf32e02338a1d1c9c"
 },
 "nbformat": 3,
 "nbformat_minor": 0,
 "worksheets": [
  {
   "cells": [
    {
     "cell_type": "heading",
     "level": 1,
     "metadata": {},
     "source": [
      "Validation: Does my model work?"
     ]
    },
    {
     "cell_type": "markdown",
     "metadata": {},
     "source": [
      "We shall go through step-by-step in assessing whether our model works. We shall be comparing two sets of values for loans issued in 2009-2011:\n",
      "\n",
      "1. Expected IRR, as predicted by our model using only loan features such as FICO score\n",
      "2. Actual IRR, as calculated using payment details of the loan data.\n",
      "\n",
      "The model is trained with features from loans issued in 2012-2014, i.e. loans that have not yet matured. It is noted that the expected IRR above is generated independent of which payments were actually paid."
     ]
    },
    {
     "cell_type": "code",
     "collapsed": false,
     "input": [
      "import numpy as np\n",
      "import pandas as pd\n",
      "import matplotlib.pyplot as plt\n",
      "from sklearn.ensemble import RandomForestRegressor\n",
      "from transfers.fileio import dump_to_pickle, load_from_pickle\n",
      "from helpers.preprocessing import process_payment, process_features\n",
      "from model.model import StatusModel\n",
      "from model.validate import actual_IRR"
     ],
     "language": "python",
     "metadata": {},
     "outputs": [],
     "prompt_number": 3
    },
    {
     "cell_type": "markdown",
     "metadata": {},
     "source": [
      "First we train our model on loans issued in 2012-2014, with loan features as features and the expected recovery based on status of the loan as our target. The model is actually a collection of 4 x 36 Random Forest models, i.e. one for each grade-payment month pair."
     ]
    },
    {
     "cell_type": "code",
     "collapsed": false,
     "input": [
      "# Load data, then pre-process\n",
      "print \"Loading data...\"\n",
      "df_3c = pd.read_csv('data/LoanStats3c_securev1.csv', header=True).iloc[:-2, :]\n",
      "df_3b = pd.read_csv('data/LoanStats3b_securev1.csv', header=True).iloc[:-2, :]\n",
      "df_raw = pd.concat((df_3c, df_3b), axis=0)\n",
      "\n",
      "# Pre-process data\n",
      "print \"Pre-processing data...\"\n",
      "df = process_features(df_raw)\n",
      "\n",
      "# Train models for every grade for every month\n",
      "print \"Training models...\"\n",
      "model = StatusModel(model=RandomForestRegressor, parameters={'n_estimators':100, 'max_depth':10})\n",
      "model.train_model(df)"
     ],
     "language": "python",
     "metadata": {},
     "outputs": [
      {
       "output_type": "stream",
       "stream": "stdout",
       "text": [
        "Loading data...\n",
        "Pre-processing data..."
       ]
      },
      {
       "output_type": "stream",
       "stream": "stdout",
       "text": [
        "\n",
        "Training models..."
       ]
      },
      {
       "output_type": "stream",
       "stream": "stdout",
       "text": [
        "\n",
        "A"
       ]
      },
      {
       "output_type": "stream",
       "stream": "stdout",
       "text": [
        " training completed...\n",
        "B"
       ]
      },
      {
       "output_type": "stream",
       "stream": "stdout",
       "text": [
        " training completed...\n",
        "C"
       ]
      },
      {
       "output_type": "stream",
       "stream": "stdout",
       "text": [
        " training completed...\n",
        "D"
       ]
      },
      {
       "output_type": "stream",
       "stream": "stdout",
       "text": [
        " training completed...\n"
       ]
      }
     ],
     "prompt_number": 7
    },
    {
     "cell_type": "markdown",
     "metadata": {},
     "source": [
      "Next we generate our 'ground truth'. The input is payment details of matured loans issued between 2009 and 2011, e.g. principal paid, interest paid, and recovered value if the loan defaulted. The output is a single actual IRR figure for each loan.\n",
      "\n",
      "We assume that loans of a specific subgrade in that period would have the same subgrade today."
     ]
    },
    {
     "cell_type": "code",
     "collapsed": false,
     "input": [
      "# Load data, then pre-process\n",
      "print \"Loading data...\"\n",
      "df_3a = pd.read_csv('data/LoanStats3a_securev1.csv', header=True).iloc[:-2, :]\n",
      "df_raw = df_3a.copy()\n",
      "\n",
      "# Pre-process data\n",
      "print \"Pre-processing data...\"\n",
      "df = process_payment(df_raw)\n",
      "\n",
      "# Calculating actual IRR for loans already matured with Dec 2014 int_rate\n",
      "print \"Calculating IRR...\"\n",
      "\n",
      "# Replace int_rate with values set in Dec 2015 by sub_grade\n",
      "int_rate_dict = {'A1':0.0603, 'A2':0.0649, 'A3':0.0699, 'A4':0.0749, 'A5':0.0819,\n",
      "                 'B1':0.0867, 'B2':0.0949, 'B3':0.1049, 'B4':0.1144, 'B5':0.1199,\n",
      "                 'C1':0.1239, 'C2':0.1299, 'C3':0.1366, 'C4':0.1431, 'C5':0.1499,\n",
      "                 'D1':0.1559, 'D2':0.1599, 'D3':0.1649, 'D4':0.1714, 'D5':0.1786}\n",
      "\n",
      "IRR_true = actual_IRR(df, False, int_rate_dict)"
     ],
     "language": "python",
     "metadata": {},
     "outputs": [
      {
       "output_type": "stream",
       "stream": "stdout",
       "text": [
        "Loading data...\n",
        "Pre-processing data..."
       ]
      },
      {
       "output_type": "stream",
       "stream": "stdout",
       "text": [
        "\n",
        "Calculating IRR..."
       ]
      },
      {
       "output_type": "stream",
       "stream": "stdout",
       "text": [
        "\n"
       ]
      }
     ],
     "prompt_number": 9
    },
    {
     "cell_type": "markdown",
     "metadata": {},
     "source": [
      "Now we used our trained model to calculate expected IRR of the matured loans issued in 2009-2011. The input is the loan features of the loans.\n",
      "\n",
      "As we would be calculating IRR for 40,000 loans, generating 3 cashflows of 36-months' length for each loan, this might take a little longer."
     ]
    },
    {
     "cell_type": "code",
     "collapsed": false,
     "input": [
      "# Pre-process data\n",
      "print \"Pre-processing data...\"\n",
      "df = process_features(df_raw, True, False) \n",
      "\n",
      "# Calculating expected IRR for loans already matured\n",
      "print \"Calculating IRR...\"\n",
      "int_rate_dict = {'A1':0.0603, 'A2':0.0649, 'A3':0.0699, 'A4':0.0749, 'A5':0.0819,\n",
      "                 'B1':0.0867, 'B2':0.0949, 'B3':0.1049, 'B4':0.1144, 'B5':0.1199,\n",
      "                 'C1':0.1239, 'C2':0.1299, 'C3':0.1366, 'C4':0.1431, 'C5':0.1499,\n",
      "                 'D1':0.1559, 'D2':0.1599, 'D3':0.1649, 'D4':0.1714, 'D5':0.1786}\n",
      "\n",
      "IRR_predict = model.expected_IRR(df, False, int_rate_dict)"
     ],
     "language": "python",
     "metadata": {},
     "outputs": [
      {
       "output_type": "stream",
       "stream": "stdout",
       "text": [
        "Pre-processing data...\n",
        "Calculating IRR..."
       ]
      }
     ]
    },
    {
     "cell_type": "markdown",
     "metadata": {},
     "source": [
      "We simply collect all our data back into the original dataframe, and review overall average MSE and average MSE by sub-grade."
     ]
    },
    {
     "cell_type": "code",
     "collapsed": false,
     "input": [
      "df_select = df[['id', 'sub_grade']]\n",
      "\n",
      "df_select['IRR_true'] = IRR_true\n",
      "df_select['IRR_predict'] = IRR_predict\n",
      "df_select['IRR_difference'] = df_select['IRR_true'] - df_select['IRR_predict']\n",
      "\n",
      "IRR_true = np.array(IRR_true)\n",
      "IRR_predict = np.array(IRR_predict)\n",
      "\n",
      "print \"Average MSE: \", np.sum((IRR_true - IRR_predict)**2) / len(IRR_true)"
     ],
     "language": "python",
     "metadata": {},
     "outputs": []
    },
    {
     "cell_type": "code",
     "collapsed": false,
     "input": [
      "df_select.groupby('sub_grade').mean()"
     ],
     "language": "python",
     "metadata": {},
     "outputs": []
    },
    {
     "cell_type": "code",
     "collapsed": false,
     "input": [
      "plt.figure(figsize = (12, 6))\n",
      "x = xrange(20)\n",
      "y_true = df_select.groupby('sub_grade').mean()['IRR_true']\n",
      "y_predict = df_select.groupby('sub_grade').mean()['IRR_predict']\n",
      "\n",
      "plt.plot(x, y_true, label='Actual IRR')\n",
      "plt.plot(x, y_predict, label='Predicted IRR')\n",
      "plt.legend(loc='best')\n",
      "plt.xlabel('Sub-grade, 0:A1 19:D5')\n",
      "plt.ylabel('IRR')     \n",
      "plt.title(\"Comparison of predicted vs true IRR\")"
     ],
     "language": "python",
     "metadata": {},
     "outputs": []
    },
    {
     "cell_type": "markdown",
     "metadata": {},
     "source": [
      "Now let's see if we can compare our metric to find loans that might outperform the average. We predict the top and bottom quartile based on the expected IRR for each sub-grade, then compare against the average actual IRR."
     ]
    },
    {
     "cell_type": "code",
     "collapsed": false,
     "input": [
      "sub_grade_range = ['A1', 'A2', 'A3', 'A4', 'A5', \n",
      "                   'B1', 'B2', 'B3', 'B4', 'B5',\n",
      "                   'C1', 'C2', 'C3', 'C4', 'C5',\n",
      "                   'D1', 'D2', 'D3', 'D4', 'D5']\n",
      "\n",
      "average_list = []\n",
      "top_list = []\n",
      "bottom_list = []\n",
      "\n",
      "for sub_grade in sub_grade_range:\n",
      "    df_sub_grade = df_select[df_select['sub_grade'] == sub_grade]\n",
      "    df_sub_grade['quartile'] = pd.qcut(df_sub_grade['IRR_predict'], 4, False)\n",
      "    \n",
      "    id_top = df_sub_grade[df_sub_grade['quartile'] == 3]['id'].values\n",
      "    id_bottom = df_sub_grade[df_sub_grade['quartile'] == 0]['id'].values\n",
      "    \n",
      "    average_IRR = df_sub_grade.mean()['IRR_true']\n",
      "    top_IRR = df_select[df_select['id'].isin(id_top)]['IRR_true'].values.mean()\n",
      "    bottom_IRR = df_select[df_select['id'].isin(id_bottom)]['IRR_true'].values.mean()\n",
      "    \n",
      "    average_list.append(average_IRR)\n",
      "    top_list.append(top_IRR)\n",
      "    bottom_list.append(bottom_IRR)\n",
      "    \n",
      "    print 'Average IRR of %s:                %f' % (sub_grade, average_IRR)\n",
      "    print 'Actual IRR of top quartile:      ', top_IRR\n",
      "    print 'Actual IRR of bottom 10 quartile:', bottom_IRR, '\\n'"
     ],
     "language": "python",
     "metadata": {},
     "outputs": []
    },
    {
     "cell_type": "markdown",
     "metadata": {},
     "source": [
      "Finally we review the performance in a graph."
     ]
    },
    {
     "cell_type": "code",
     "collapsed": false,
     "input": [
      "plt.figure(figsize = (12, 6))\n",
      "plt.plot(x, average_list, label='Average IRR')\n",
      "plt.plot(x, top_list, label='Top quartile IRR')\n",
      "plt.plot(x, bottom_list, label='Bottom quartile IRR')\n",
      "plt.xlabel('Sub-grade, 0:A1 19:D5')\n",
      "plt.ylabel('IRR')           \n",
      "plt.legend(loc='best')\n",
      "plt.title(\"Performance of selective loan selection strategy\")"
     ],
     "language": "python",
     "metadata": {},
     "outputs": []
    }
   ],
   "metadata": {}
  }
 ]
}