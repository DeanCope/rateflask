{
 "metadata": {
  "name": "",
  "signature": "sha256:3645ad73faa5ba9461e5586aab1c7942cf2ab6ba72c712019f48a1932cf6435f"
 },
 "nbformat": 3,
 "nbformat_minor": 0,
 "worksheets": [
  {
   "cells": [
    {
     "cell_type": "heading",
     "level": 1,
     "metadata": {},
     "source": [
      "Application: Why do I care?"
     ]
    },
    {
     "cell_type": "markdown",
     "metadata": {},
     "source": [
      "Suppose you were given a number of loans of grade B-2 to choose from. Since all of them are in the sub-grade, they pay the same interest rate. Is random selection good enough, or it possible to beat the average return in a statistically reliable way?\n",
      "\n",
      "Viewed as a black box, the model takes in loan features as input and returns the predicted rate of return. What we'll be doing here is to use our the predicted rate of return to rank the loans, and attempt to beat the average by choosing the top quartile. We'll then compare the average rate of return of the loans in the top quartile against the sub-grade average."
     ]
    },
    {
     "cell_type": "code",
     "collapsed": false,
     "input": [
      "import numpy as np\n",
      "import pandas as pd\n",
      "import matplotlib.pyplot as plt\n",
      "from sklearn.ensemble import RandomForestRegressor\n",
      "from transfers.fileio import load_from_pickle\n",
      "from helpers.preprocessing import process_payment, process_features\n",
      "from model.model import StatusModel\n",
      "from model.validate import actual_IRR"
     ],
     "language": "python",
     "metadata": {},
     "outputs": [],
     "prompt_number": 13
    },
    {
     "cell_type": "code",
     "collapsed": false,
     "input": [
      "# Load data, then pre-process\n",
      "print \"Loading data...\"\n",
      "df_3c = pd.read_csv('data/LoanStats3c_securev1.csv', header=True).iloc[:-2, :]\n",
      "df_3b = pd.read_csv('data/LoanStats3b_securev1.csv', header=True).iloc[:-2, :]\n",
      "df_raw = pd.concat((df_3c, df_3b), axis=0)\n",
      "\n",
      "# Pre-process data\n",
      "print \"Pre-processing data...\"\n",
      "df_features = process_features(df_raw)\n",
      "\n",
      "# Train models for every grade for every month\n",
      "print \"Training models...\"\n",
      "model = StatusModel(model=RandomForestRegressor, parameters={'n_estimators':100, 'max_depth':10})\n",
      "model.train_model(df_features)"
     ],
     "language": "python",
     "metadata": {},
     "outputs": [
      {
       "output_type": "stream",
       "stream": "stdout",
       "text": [
        "Loading data...\n",
        "Pre-processing data..."
       ]
      },
      {
       "output_type": "stream",
       "stream": "stdout",
       "text": [
        "\n",
        "Training models..."
       ]
      },
      {
       "output_type": "stream",
       "stream": "stdout",
       "text": [
        "\n",
        "A"
       ]
      },
      {
       "output_type": "stream",
       "stream": "stdout",
       "text": [
        " training completed...\n",
        "B"
       ]
      },
      {
       "output_type": "stream",
       "stream": "stdout",
       "text": [
        " training completed...\n",
        "C"
       ]
      },
      {
       "output_type": "stream",
       "stream": "stdout",
       "text": [
        " training completed...\n",
        "D"
       ]
      },
      {
       "output_type": "stream",
       "stream": "stdout",
       "text": [
        " training completed...\n"
       ]
      }
     ],
     "prompt_number": 14
    },
    {
     "cell_type": "code",
     "collapsed": false,
     "input": [
      "# Load data, then pre-process\n",
      "print \"Loading data...\"\n",
      "df_3a = pd.read_csv('data/LoanStats3a_securev1.csv', header=True).iloc[:-2, :]\n",
      "df_raw = df_3a.copy()\n",
      "\n",
      "# Pre-process data\n",
      "print \"Pre-processing data...\"\n",
      "df_features = process_features(df_raw, True, False) \n",
      "\n",
      "# Calculating expected rate of return for loans already matured\n",
      "print \"Calculating rate of return...\"\n",
      "int_rate_dict = {'A1':0.0603, 'A2':0.0649, 'A3':0.0699, 'A4':0.0749, 'A5':0.0819,\n",
      "                 'B1':0.0867, 'B2':0.0949, 'B3':0.1049, 'B4':0.1144, 'B5':0.1199,\n",
      "                 'C1':0.1239, 'C2':0.1299, 'C3':0.1366, 'C4':0.1431, 'C5':0.1499,\n",
      "                 'D1':0.1559, 'D2':0.1599, 'D3':0.1649, 'D4':0.1714, 'D5':0.1786}\n",
      "\n",
      "rate_predict = model.expected_IRR(df_features, False, int_rate_dict)"
     ],
     "language": "python",
     "metadata": {},
     "outputs": [
      {
       "output_type": "stream",
       "stream": "stdout",
       "text": [
        "Loading data...\n",
        "Pre-processing data..."
       ]
      },
      {
       "output_type": "stream",
       "stream": "stdout",
       "text": [
        "\n",
        "Calculating rate of return..."
       ]
      },
      {
       "output_type": "stream",
       "stream": "stdout",
       "text": [
        "\n"
       ]
      }
     ],
     "prompt_number": 15
    },
    {
     "cell_type": "code",
     "collapsed": false,
     "input": [
      "# Pre-process data\n",
      "print \"Pre-processing data...\"\n",
      "df_payment = process_payment(df_raw)\n",
      "\n",
      "# Calculating actual rate of return for loans already matured with Dec 2014 int_rate\n",
      "print \"Calculating rate of return...\"\n",
      "\n",
      "# Replace int_rate with values set in Dec 2015 by sub_grade\n",
      "int_rate_dict = {'A1':0.0603, 'A2':0.0649, 'A3':0.0699, 'A4':0.0749, 'A5':0.0819,\n",
      "                 'B1':0.0867, 'B2':0.0949, 'B3':0.1049, 'B4':0.1144, 'B5':0.1199,\n",
      "                 'C1':0.1239, 'C2':0.1299, 'C3':0.1366, 'C4':0.1431, 'C5':0.1499,\n",
      "                 'D1':0.1559, 'D2':0.1599, 'D3':0.1649, 'D4':0.1714, 'D5':0.1786}\n",
      "\n",
      "rate_true = actual_IRR(df_payment, False, int_rate_dict)"
     ],
     "language": "python",
     "metadata": {},
     "outputs": [
      {
       "output_type": "stream",
       "stream": "stdout",
       "text": [
        "Pre-processing data...\n",
        "Calculating rate of return..."
       ]
      },
      {
       "output_type": "stream",
       "stream": "stdout",
       "text": [
        "\n"
       ]
      }
     ],
     "prompt_number": 16
    },
    {
     "cell_type": "code",
     "collapsed": false,
     "input": [
      "df_select = df_features[['id', 'sub_grade']]\n",
      "\n",
      "df_select['rate_true'] = rate_true\n",
      "df_select['rate_predict'] = rate_predict"
     ],
     "language": "python",
     "metadata": {},
     "outputs": [],
     "prompt_number": 17
    },
    {
     "cell_type": "markdown",
     "metadata": {},
     "source": [
      "Now that we have the predicted rate of return for each loan, we can rank the loans and identify which loans fall into the top quartile of each sub-grade band. We then compare the average actual return of the top quartile against the average actual return of the whole sub-grade band.\n",
      "\n",
      "For the purpose of comparison, we do the same for the bottom quartile."
     ]
    },
    {
     "cell_type": "code",
     "collapsed": false,
     "input": [
      "sub_grade_range = ['A1', 'A2', 'A3', 'A4', 'A5', \n",
      "                   'B1', 'B2', 'B3', 'B4', 'B5',\n",
      "                   'C1', 'C2', 'C3', 'C4', 'C5',\n",
      "                   'D1', 'D2', 'D3', 'D4', 'D5']\n",
      "\n",
      "average_list = []\n",
      "top_list = []\n",
      "bottom_list = []\n",
      "\n",
      "for sub_grade in sub_grade_range:\n",
      "    df_sub_grade = df_select[df_select['sub_grade'] == sub_grade]\n",
      "    df_sub_grade['quartile'] = pd.qcut(df_sub_grade['rate_predict'], 4, False)\n",
      "    \n",
      "    id_top = df_sub_grade[df_sub_grade['quartile'] == 3]['id'].values\n",
      "    id_bottom = df_sub_grade[df_sub_grade['quartile'] == 0]['id'].values\n",
      "    \n",
      "    average_IRR = df_sub_grade.mean()['rate_true']\n",
      "    top_IRR = df_select[df_select['id'].isin(id_top)]['rate_true'].values.mean()\n",
      "    bottom_IRR = df_select[df_select['id'].isin(id_bottom)]['rate_true'].values.mean()\n",
      "    \n",
      "    average_list.append(average_IRR)\n",
      "    top_list.append(top_IRR)\n",
      "    bottom_list.append(bottom_IRR)\n",
      "    \n",
      "    print 'Average IRR of %s:                %f' % (sub_grade, average_IRR)\n",
      "    print 'Actual IRR of top quartile:      ', top_IRR\n",
      "    print 'Actual IRR of bottom 10 quartile:', bottom_IRR, '\\n'"
     ],
     "language": "python",
     "metadata": {},
     "outputs": [
      {
       "output_type": "stream",
       "stream": "stdout",
       "text": [
        "Average IRR of A1:                0.054840\n",
        "Actual IRR of top quartile:       0.0609649358862\n",
        "Actual IRR of bottom 10 quartile: 0.0479582747645 \n",
        "\n",
        "Average IRR of A2:                0.054009\n",
        "Actual IRR of top quartile:       0.0617128185805\n",
        "Actual IRR of bottom 10 quartile: 0.0455468922785 \n",
        "\n",
        "Average IRR of A3:                0.058820\n",
        "Actual IRR of top quartile:       0.0658823684175\n",
        "Actual IRR of bottom 10 quartile: 0.0531802151515 \n",
        "\n",
        "Average IRR of A4:                0.063289\n",
        "Actual IRR of top quartile:       0.0729703370975\n",
        "Actual IRR of bottom 10 quartile: 0.0542778271452 \n",
        "\n",
        "Average IRR of A5:                0.066053"
       ]
      },
      {
       "output_type": "stream",
       "stream": "stdout",
       "text": [
        "\n",
        "Actual IRR of top quartile:       0.076326752739\n",
        "Actual IRR of bottom 10 quartile: 0.0495989199483 \n",
        "\n",
        "Average IRR of B1:                0.065036\n",
        "Actual IRR of top quartile:       0.0782048952685\n",
        "Actual IRR of bottom 10 quartile: 0.0598065915381 \n",
        "\n",
        "Average IRR of B2:                0.074596\n",
        "Actual IRR of top quartile:       0.0861272389098\n",
        "Actual IRR of bottom 10 quartile: 0.067878864993 \n",
        "\n",
        "Average IRR of B3:                0.082055\n",
        "Actual IRR of top quartile:       0.0879444375318\n",
        "Actual IRR of bottom 10 quartile: 0.0763224566661 \n",
        "\n",
        "Average IRR of B4:                0.089151"
       ]
      },
      {
       "output_type": "stream",
       "stream": "stdout",
       "text": [
        "\n",
        "Actual IRR of top quartile:       0.107760897919\n",
        "Actual IRR of bottom 10 quartile: 0.0674763278059 \n",
        "\n",
        "Average IRR of B5:                0.094420\n",
        "Actual IRR of top quartile:       0.113305029251\n",
        "Actual IRR of bottom 10 quartile: 0.0782373558138 \n",
        "\n",
        "Average IRR of C1:                0.094693\n",
        "Actual IRR of top quartile:       0.111661636407\n",
        "Actual IRR of bottom 10 quartile: 0.0713285488386 \n",
        "\n",
        "Average IRR of C2:                0.095258\n",
        "Actual IRR of top quartile:       0.107181515047\n",
        "Actual IRR of bottom 10 quartile: 0.0825596304619 \n",
        "\n",
        "Average IRR of C3:                0.093860\n",
        "Actual IRR of top quartile:       0.0968144006752\n",
        "Actual IRR of bottom 10 quartile: 0.0747091212339 \n",
        "\n",
        "Average IRR of C4:                0.106270"
       ]
      },
      {
       "output_type": "stream",
       "stream": "stdout",
       "text": [
        "\n",
        "Actual IRR of top quartile:       0.123439262441\n",
        "Actual IRR of bottom 10 quartile: 0.0829277686622 \n",
        "\n",
        "Average IRR of C5:                0.111463\n",
        "Actual IRR of top quartile:       0.133481380903\n",
        "Actual IRR of bottom 10 quartile: 0.0794123661788 \n",
        "\n",
        "Average IRR of D1:                0.114010\n",
        "Actual IRR of top quartile:       0.129431513537\n",
        "Actual IRR of bottom 10 quartile: 0.0869874716797 \n",
        "\n",
        "Average IRR of D2:                0.120886\n",
        "Actual IRR of top quartile:       0.139640911826\n",
        "Actual IRR of bottom 10 quartile: 0.0943985976305 \n",
        "\n",
        "Average IRR of D3:                0.121501\n",
        "Actual IRR of top quartile:       0.135473825402\n",
        "Actual IRR of bottom 10 quartile: 0.0974996755731 \n",
        "\n",
        "Average IRR of D4:                0.123292"
       ]
      },
      {
       "output_type": "stream",
       "stream": "stdout",
       "text": [
        "\n",
        "Actual IRR of top quartile:       0.153563208667\n",
        "Actual IRR of bottom 10 quartile: 0.0987375235712 \n",
        "\n",
        "Average IRR of D5:                0.137635\n",
        "Actual IRR of top quartile:       0.157133471078\n",
        "Actual IRR of bottom 10 quartile: 0.0903370979012 \n",
        "\n"
       ]
      }
     ],
     "prompt_number": 18
    },
    {
     "cell_type": "markdown",
     "metadata": {},
     "source": [
      "Finally, we plot the average overall return, as well as the average return of the top and bottom quartiles. We are able to beat the average of 9.1% by 1.3%."
     ]
    },
    {
     "cell_type": "code",
     "collapsed": false,
     "input": [
      "plt.figure(figsize = (12, 6))\n",
      "x = xrange(20)\n",
      "\n",
      "plt.plot(x, average_list, label='Average IRR')\n",
      "plt.plot(x, top_list, label='Top quartile IRR')\n",
      "plt.plot(x, bottom_list, label='Bottom quartile IRR')\n",
      "plt.xlabel('Sub-grade, 0:A1 19:D5')\n",
      "plt.ylabel('IRR')           \n",
      "plt.legend(loc='best')\n",
      "plt.title(\"Performance of selective loan selection strategy\")"
     ],
     "language": "python",
     "metadata": {},
     "outputs": [
      {
       "metadata": {},
       "output_type": "pyout",
       "prompt_number": 19,
       "text": [
        "<matplotlib.text.Text at 0x10ae63050>"
       ]
      },
      {
       "metadata": {},
       "output_type": "display_data",
       "png": "[encoded data removed]",
       "text": [
        "<matplotlib.figure.Figure at 0x1099d4090>"
       ]
      }
     ],
     "prompt_number": 19
    }
   ],
   "metadata": {}
  }
 ]
}