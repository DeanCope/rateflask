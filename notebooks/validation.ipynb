{
 "metadata": {
  "name": "",
  "signature": "sha256:54f55207fb58416e0a4f57212f7aaf55f9a37cce8c443de50438aa8dfbe2a3c8"
 },
 "nbformat": 3,
 "nbformat_minor": 0,
 "worksheets": [
  {
   "cells": [
    {
     "cell_type": "heading",
     "level": 1,
     "metadata": {},
     "source": [
      "Validation: Does my model work?"
     ]
    },
    {
     "cell_type": "markdown",
     "metadata": {},
     "source": [
      "We shall go through step-by-step in assessing whether our model works. We shall be comparing two sets of values for loans issued in 2009-2011:\n",
      "\n",
      "1. Expected IRR, as predicted by our model using only loan features such as FICO score\n",
      "2. Actual IRR, as calculated using payment details of the loan data.\n",
      "\n",
      "The model is trained with features from loans issued in 2012-2014, i.e. loans that have not yet matured. It is noted that the expected IRR above is generated independent of which payments were actually paid."
     ]
    },
    {
     "cell_type": "code",
     "collapsed": false,
     "input": [
      "import numpy as np\n",
      "import pandas as pd\n",
      "import matplotlib.pyplot as plt\n",
      "from sklearn.ensemble import RandomForestRegressor\n",
      "from transfers.fileio import dump_to_pickle, load_from_pickle\n",
      "from helpers.preprocessing import process_payment, process_features\n",
      "from model.model import StatusModel\n",
      "from model.validate import actual_IRR"
     ],
     "language": "python",
     "metadata": {},
     "outputs": [],
     "prompt_number": 3
    },
    {
     "cell_type": "markdown",
     "metadata": {},
     "source": [
      "First we train our model on loans issued in 2012-2014, with loan features as features and the expected recovery based on status of the loan as our target. The model is actually a collection of 4 x 36 Random Forest models, i.e. one for each grade-payment month pair."
     ]
    },
    {
     "cell_type": "code",
     "collapsed": false,
     "input": [
      "# Load data, then pre-process\n",
      "print \"Loading data...\"\n",
      "df_3c = pd.read_csv('data/LoanStats3c_securev1.csv', header=True).iloc[:-2, :]\n",
      "df_3b = pd.read_csv('data/LoanStats3b_securev1.csv', header=True).iloc[:-2, :]\n",
      "df_raw = pd.concat((df_3c, df_3b), axis=0)\n",
      "\n",
      "# Pre-process data\n",
      "print \"Pre-processing data...\"\n",
      "df = process_features(df_raw)\n",
      "\n",
      "# Train models for every grade for every month\n",
      "print \"Training models...\"\n",
      "model = StatusModel(model=RandomForestRegressor, parameters={'n_estimators':100, 'max_depth':10})\n",
      "model.train_model(df)"
     ],
     "language": "python",
     "metadata": {},
     "outputs": [
      {
       "output_type": "stream",
       "stream": "stdout",
       "text": [
        "Loading data...\n",
        "Pre-processing data..."
       ]
      },
      {
       "output_type": "stream",
       "stream": "stdout",
       "text": [
        "\n",
        "Training models..."
       ]
      },
      {
       "output_type": "stream",
       "stream": "stdout",
       "text": [
        "\n",
        "A"
       ]
      },
      {
       "output_type": "stream",
       "stream": "stdout",
       "text": [
        " training completed...\n",
        "B"
       ]
      },
      {
       "output_type": "stream",
       "stream": "stdout",
       "text": [
        " training completed...\n",
        "C"
       ]
      },
      {
       "output_type": "stream",
       "stream": "stdout",
       "text": [
        " training completed...\n",
        "D"
       ]
      },
      {
       "output_type": "stream",
       "stream": "stdout",
       "text": [
        " training completed...\n"
       ]
      }
     ],
     "prompt_number": 7
    },
    {
     "cell_type": "markdown",
     "metadata": {},
     "source": [
      "Next we generate our 'ground truth'. The input is payment details of matured loans issued between 2009 and 2011, e.g. principal paid, interest paid, and recovered value if the loan defaulted. The output is a single actual IRR figure for each loan.\n",
      "\n",
      "We assume that loans of a specific subgrade in that period would have the same subgrade today."
     ]
    },
    {
     "cell_type": "code",
     "collapsed": false,
     "input": [
      "# Load data, then pre-process\n",
      "print \"Loading data...\"\n",
      "df_3a = pd.read_csv('data/LoanStats3a_securev1.csv', header=True).iloc[:-2, :]\n",
      "df_raw = df_3a.copy()\n",
      "\n",
      "# Pre-process data\n",
      "print \"Pre-processing data...\"\n",
      "df = process_payment(df_raw)\n",
      "\n",
      "# Calculating actual IRR for loans already matured with Dec 2014 int_rate\n",
      "print \"Calculating IRR...\"\n",
      "\n",
      "# Replace int_rate with values set in Dec 2015 by sub_grade\n",
      "int_rate_dict = {'A1':0.0603, 'A2':0.0649, 'A3':0.0699, 'A4':0.0749, 'A5':0.0819,\n",
      "                 'B1':0.0867, 'B2':0.0949, 'B3':0.1049, 'B4':0.1144, 'B5':0.1199,\n",
      "                 'C1':0.1239, 'C2':0.1299, 'C3':0.1366, 'C4':0.1431, 'C5':0.1499,\n",
      "                 'D1':0.1559, 'D2':0.1599, 'D3':0.1649, 'D4':0.1714, 'D5':0.1786}\n",
      "\n",
      "IRR_true = actual_IRR(df, False, int_rate_dict)"
     ],
     "language": "python",
     "metadata": {},
     "outputs": [
      {
       "output_type": "stream",
       "stream": "stdout",
       "text": [
        "Loading data...\n",
        "Pre-processing data..."
       ]
      },
      {
       "output_type": "stream",
       "stream": "stdout",
       "text": [
        "\n",
        "Calculating IRR..."
       ]
      },
      {
       "output_type": "stream",
       "stream": "stdout",
       "text": [
        "\n"
       ]
      }
     ],
     "prompt_number": 9
    },
    {
     "cell_type": "markdown",
     "metadata": {},
     "source": [
      "Now we used our trained model to calculate expected IRR of the matured loans issued in 2009-2011. The input is the loan features of the loans.\n",
      "\n",
      "As we would be calculating IRR for 40,000 loans, generating 3 cashflows of 36-months' length for each loan, this might take a little longer."
     ]
    },
    {
     "cell_type": "code",
     "collapsed": false,
     "input": [
      "# Pre-process data\n",
      "print \"Pre-processing data...\"\n",
      "df = process_features(df_raw, True, False) \n",
      "\n",
      "# Calculating expected IRR for loans already matured\n",
      "print \"Calculating IRR...\"\n",
      "int_rate_dict = {'A1':0.0603, 'A2':0.0649, 'A3':0.0699, 'A4':0.0749, 'A5':0.0819,\n",
      "                 'B1':0.0867, 'B2':0.0949, 'B3':0.1049, 'B4':0.1144, 'B5':0.1199,\n",
      "                 'C1':0.1239, 'C2':0.1299, 'C3':0.1366, 'C4':0.1431, 'C5':0.1499,\n",
      "                 'D1':0.1559, 'D2':0.1599, 'D3':0.1649, 'D4':0.1714, 'D5':0.1786}\n",
      "\n",
      "IRR_predict = model.expected_IRR(df, False, int_rate_dict)"
     ],
     "language": "python",
     "metadata": {},
     "outputs": [
      {
       "output_type": "stream",
       "stream": "stdout",
       "text": [
        "Pre-processing data...\n",
        "Calculating IRR..."
       ]
      },
      {
       "output_type": "stream",
       "stream": "stdout",
       "text": [
        "\n"
       ]
      }
     ],
     "prompt_number": 11
    },
    {
     "cell_type": "markdown",
     "metadata": {},
     "source": [
      "We simply collect all our data back into the original dataframe, and review overall average MSE and average MSE by sub-grade."
     ]
    },
    {
     "cell_type": "code",
     "collapsed": false,
     "input": [
      "df_select = df[['id', 'sub_grade']]\n",
      "\n",
      "df_select['IRR_true'] = IRR_true\n",
      "df_select['IRR_predict'] = IRR_predict\n",
      "df_select['IRR_difference'] = df_select['IRR_true'] - df_select['IRR_predict']\n",
      "\n",
      "IRR_true = np.array(IRR_true)\n",
      "IRR_predict = np.array(IRR_predict)\n",
      "\n",
      "print \"Average MSE: \", np.sum((IRR_true - IRR_predict)**2) / len(IRR_true)"
     ],
     "language": "python",
     "metadata": {},
     "outputs": [
      {
       "output_type": "stream",
       "stream": "stdout",
       "text": [
        "Average MSE:  0.0113968304355\n"
       ]
      }
     ],
     "prompt_number": 12
    },
    {
     "cell_type": "code",
     "collapsed": false,
     "input": [
      "df_select.groupby('sub_grade').mean()"
     ],
     "language": "python",
     "metadata": {},
     "outputs": [
      {
       "html": [
        "<div style=\"max-height:1000px;max-width:1500px;overflow:auto;\">\n",
        "<table border=\"1\" class=\"dataframe\">\n",
        "  <thead>\n",
        "    <tr style=\"text-align: right;\">\n",
        "      <th></th>\n",
        "      <th>IRR_true</th>\n",
        "      <th>IRR_predict</th>\n",
        "      <th>IRR_difference</th>\n",
        "    </tr>\n",
        "    <tr>\n",
        "      <th>sub_grade</th>\n",
        "      <th></th>\n",
        "      <th></th>\n",
        "      <th></th>\n",
        "    </tr>\n",
        "  </thead>\n",
        "  <tbody>\n",
        "    <tr>\n",
        "      <th>A1</th>\n",
        "      <td> 0.054840</td>\n",
        "      <td> 0.050462</td>\n",
        "      <td> 0.004378</td>\n",
        "    </tr>\n",
        "    <tr>\n",
        "      <th>A2</th>\n",
        "      <td> 0.054009</td>\n",
        "      <td> 0.053570</td>\n",
        "      <td> 0.000439</td>\n",
        "    </tr>\n",
        "    <tr>\n",
        "      <th>A3</th>\n",
        "      <td> 0.058820</td>\n",
        "      <td> 0.058011</td>\n",
        "      <td> 0.000809</td>\n",
        "    </tr>\n",
        "    <tr>\n",
        "      <th>A4</th>\n",
        "      <td> 0.063289</td>\n",
        "      <td> 0.061867</td>\n",
        "      <td> 0.001422</td>\n",
        "    </tr>\n",
        "    <tr>\n",
        "      <th>A5</th>\n",
        "      <td> 0.066053</td>\n",
        "      <td> 0.067729</td>\n",
        "      <td>-0.001676</td>\n",
        "    </tr>\n",
        "    <tr>\n",
        "      <th>B1</th>\n",
        "      <td> 0.065036</td>\n",
        "      <td> 0.060289</td>\n",
        "      <td> 0.004747</td>\n",
        "    </tr>\n",
        "    <tr>\n",
        "      <th>B2</th>\n",
        "      <td> 0.074596</td>\n",
        "      <td> 0.069327</td>\n",
        "      <td> 0.005269</td>\n",
        "    </tr>\n",
        "    <tr>\n",
        "      <th>B3</th>\n",
        "      <td> 0.082055</td>\n",
        "      <td> 0.080217</td>\n",
        "      <td> 0.001838</td>\n",
        "    </tr>\n",
        "    <tr>\n",
        "      <th>B4</th>\n",
        "      <td> 0.089151</td>\n",
        "      <td> 0.090619</td>\n",
        "      <td>-0.001468</td>\n",
        "    </tr>\n",
        "    <tr>\n",
        "      <th>B5</th>\n",
        "      <td> 0.094420</td>\n",
        "      <td> 0.095596</td>\n",
        "      <td>-0.001176</td>\n",
        "    </tr>\n",
        "    <tr>\n",
        "      <th>C1</th>\n",
        "      <td> 0.094693</td>\n",
        "      <td> 0.089944</td>\n",
        "      <td> 0.004749</td>\n",
        "    </tr>\n",
        "    <tr>\n",
        "      <th>C2</th>\n",
        "      <td> 0.095258</td>\n",
        "      <td> 0.095499</td>\n",
        "      <td>-0.000242</td>\n",
        "    </tr>\n",
        "    <tr>\n",
        "      <th>C3</th>\n",
        "      <td> 0.093860</td>\n",
        "      <td> 0.101362</td>\n",
        "      <td>-0.007502</td>\n",
        "    </tr>\n",
        "    <tr>\n",
        "      <th>C4</th>\n",
        "      <td> 0.106270</td>\n",
        "      <td> 0.107965</td>\n",
        "      <td>-0.001695</td>\n",
        "    </tr>\n",
        "    <tr>\n",
        "      <th>C5</th>\n",
        "      <td> 0.111463</td>\n",
        "      <td> 0.112794</td>\n",
        "      <td>-0.001331</td>\n",
        "    </tr>\n",
        "    <tr>\n",
        "      <th>D1</th>\n",
        "      <td> 0.114010</td>\n",
        "      <td> 0.111904</td>\n",
        "      <td> 0.002106</td>\n",
        "    </tr>\n",
        "    <tr>\n",
        "      <th>D2</th>\n",
        "      <td> 0.120886</td>\n",
        "      <td> 0.116205</td>\n",
        "      <td> 0.004681</td>\n",
        "    </tr>\n",
        "    <tr>\n",
        "      <th>D3</th>\n",
        "      <td> 0.121501</td>\n",
        "      <td> 0.118792</td>\n",
        "      <td> 0.002708</td>\n",
        "    </tr>\n",
        "    <tr>\n",
        "      <th>D4</th>\n",
        "      <td> 0.123292</td>\n",
        "      <td> 0.125080</td>\n",
        "      <td>-0.001789</td>\n",
        "    </tr>\n",
        "    <tr>\n",
        "      <th>D5</th>\n",
        "      <td> 0.137635</td>\n",
        "      <td> 0.132236</td>\n",
        "      <td> 0.005399</td>\n",
        "    </tr>\n",
        "  </tbody>\n",
        "</table>\n",
        "</div>"
       ],
       "metadata": {},
       "output_type": "pyout",
       "prompt_number": 13,
       "text": [
        "           IRR_true  IRR_predict  IRR_difference\n",
        "sub_grade                                       \n",
        "A1         0.054840     0.050462        0.004378\n",
        "A2         0.054009     0.053570        0.000439\n",
        "A3         0.058820     0.058011        0.000809\n",
        "A4         0.063289     0.061867        0.001422\n",
        "A5         0.066053     0.067729       -0.001676\n",
        "B1         0.065036     0.060289        0.004747\n",
        "B2         0.074596     0.069327        0.005269\n",
        "B3         0.082055     0.080217        0.001838\n",
        "B4         0.089151     0.090619       -0.001468\n",
        "B5         0.094420     0.095596       -0.001176\n",
        "C1         0.094693     0.089944        0.004749\n",
        "C2         0.095258     0.095499       -0.000242\n",
        "C3         0.093860     0.101362       -0.007502\n",
        "C4         0.106270     0.107965       -0.001695\n",
        "C5         0.111463     0.112794       -0.001331\n",
        "D1         0.114010     0.111904        0.002106\n",
        "D2         0.120886     0.116205        0.004681\n",
        "D3         0.121501     0.118792        0.002708\n",
        "D4         0.123292     0.125080       -0.001789\n",
        "D5         0.137635     0.132236        0.005399"
       ]
      }
     ],
     "prompt_number": 13
    },
    {
     "cell_type": "code",
     "collapsed": false,
     "input": [
      "plt.figure(figsize = (12, 6))\n",
      "x = xrange(20)\n",
      "y_true = df_select.groupby('sub_grade').mean()['IRR_true']\n",
      "y_predict = df_select.groupby('sub_grade').mean()['IRR_predict']\n",
      "\n",
      "plt.plot(x, y_true, label='Actual IRR')\n",
      "plt.plot(x, y_predict, label='Predicted IRR')\n",
      "plt.legend(loc='best')\n",
      "plt.xlabel('Sub-grade, 0:A1 19:D5')\n",
      "plt.ylabel('IRR')     \n",
      "plt.title(\"Comparison of predicted vs true IRR\")"
     ],
     "language": "python",
     "metadata": {},
     "outputs": [
      {
       "metadata": {},
       "output_type": "pyout",
       "prompt_number": 14,
       "text": [
        "<matplotlib.text.Text at 0x11604e2d0>"
       ]
      },
      {
       "metadata": {},
       "output_type": "display_data",
       "png": "[encoded data removed]",
       "text": [
        "<matplotlib.figure.Figure at 0x1130cc090>"
       ]
      }
     ],
     "prompt_number": 14
    },
    {
     "cell_type": "markdown",
     "metadata": {},
     "source": [
      "Now let's see if we can compare our metric to find loans that might outperform the average. We predict the top and bottom quartile based on the expected IRR for each sub-grade, then compare against the average actual IRR."
     ]
    },
    {
     "cell_type": "code",
     "collapsed": false,
     "input": [
      "sub_grade_range = ['A1', 'A2', 'A3', 'A4', 'A5', \n",
      "                   'B1', 'B2', 'B3', 'B4', 'B5',\n",
      "                   'C1', 'C2', 'C3', 'C4', 'C5',\n",
      "                   'D1', 'D2', 'D3', 'D4', 'D5']\n",
      "\n",
      "average_list = []\n",
      "top_list = []\n",
      "bottom_list = []\n",
      "\n",
      "for sub_grade in sub_grade_range:\n",
      "    df_sub_grade = df_select[df_select['sub_grade'] == sub_grade]\n",
      "    df_sub_grade['quartile'] = pd.qcut(df_sub_grade['IRR_predict'], 4, False)\n",
      "    \n",
      "    id_top = df_sub_grade[df_sub_grade['quartile'] == 3]['id'].values\n",
      "    id_bottom = df_sub_grade[df_sub_grade['quartile'] == 0]['id'].values\n",
      "    \n",
      "    average_IRR = df_sub_grade.mean()['IRR_true']\n",
      "    top_IRR = df_select[df_select['id'].isin(id_top)]['IRR_true'].values.mean()\n",
      "    bottom_IRR = df_select[df_select['id'].isin(id_bottom)]['IRR_true'].values.mean()\n",
      "    \n",
      "    average_list.append(average_IRR)\n",
      "    top_list.append(top_IRR)\n",
      "    bottom_list.append(bottom_IRR)\n",
      "    \n",
      "    print 'Average IRR of %s:                %f' % (sub_grade, average_IRR)\n",
      "    print 'Actual IRR of top quartile:      ', top_IRR\n",
      "    print 'Actual IRR of bottom 10 quartile:', bottom_IRR, '\\n'"
     ],
     "language": "python",
     "metadata": {},
     "outputs": [
      {
       "output_type": "stream",
       "stream": "stdout",
       "text": [
        "Average IRR of A1:                0.054840\n",
        "Actual IRR of top quartile:       0.0596406553429\n",
        "Actual IRR of bottom 10 quartile: 0.0500147086258 \n",
        "\n",
        "Average IRR of A2:                0.054009\n",
        "Actual IRR of top quartile:       0.0605919305886\n",
        "Actual IRR of bottom 10 quartile: 0.0467185467892 \n",
        "\n",
        "Average IRR of A3:                0.058820\n",
        "Actual IRR of top quartile:       0.0650471436017\n",
        "Actual IRR of bottom 10 quartile: 0.0527526273712 \n",
        "\n",
        "Average IRR of A4:                0.063289\n",
        "Actual IRR of top quartile:       0.0715572267545\n",
        "Actual IRR of bottom 10 quartile: 0.054131416096 \n",
        "\n",
        "Average IRR of A5:                0.066053"
       ]
      },
      {
       "output_type": "stream",
       "stream": "stdout",
       "text": [
        "\n",
        "Actual IRR of top quartile:       0.0767959802866\n",
        "Actual IRR of bottom 10 quartile: 0.0503937793518 \n",
        "\n",
        "Average IRR of B1:                0.065036\n",
        "Actual IRR of top quartile:       0.0753628769739\n",
        "Actual IRR of bottom 10 quartile: 0.0581525869803 \n",
        "\n",
        "Average IRR of B2:                0.074596\n",
        "Actual IRR of top quartile:       0.0853199859898\n",
        "Actual IRR of bottom 10 quartile: 0.0695682972357 \n",
        "\n",
        "Average IRR of B3:                0.082055\n",
        "Actual IRR of top quartile:       0.0877911518634\n",
        "Actual IRR of bottom 10 quartile: 0.0761155024923 \n",
        "\n",
        "Average IRR of B4:                0.089151"
       ]
      },
      {
       "output_type": "stream",
       "stream": "stdout",
       "text": [
        "\n",
        "Actual IRR of top quartile:       0.106224722552\n",
        "Actual IRR of bottom 10 quartile: 0.064650793808 \n",
        "\n",
        "Average IRR of B5:                0.094420\n",
        "Actual IRR of top quartile:       0.111878392682\n",
        "Actual IRR of bottom 10 quartile: 0.0785959837731 \n",
        "\n",
        "Average IRR of C1:                0.094693\n",
        "Actual IRR of top quartile:       0.113079056131\n",
        "Actual IRR of bottom 10 quartile: 0.0717681282476 \n",
        "\n",
        "Average IRR of C2:                0.095258\n",
        "Actual IRR of top quartile:       0.108724659039\n",
        "Actual IRR of bottom 10 quartile: 0.0834818188806 \n",
        "\n",
        "Average IRR of C3:                0.093860"
       ]
      },
      {
       "output_type": "stream",
       "stream": "stdout",
       "text": [
        "\n",
        "Actual IRR of top quartile:       0.094548616621\n",
        "Actual IRR of bottom 10 quartile: 0.0756825257583 \n",
        "\n",
        "Average IRR of C4:                0.106270\n",
        "Actual IRR of top quartile:       0.119233135328\n",
        "Actual IRR of bottom 10 quartile: 0.0837091555434 \n",
        "\n",
        "Average IRR of C5:                0.111463\n",
        "Actual IRR of top quartile:       0.132041582859\n",
        "Actual IRR of bottom 10 quartile: 0.0823617561717 \n",
        "\n",
        "Average IRR of D1:                0.114010\n",
        "Actual IRR of top quartile:       0.124225615841\n",
        "Actual IRR of bottom 10 quartile: 0.0914984040467 \n",
        "\n",
        "Average IRR of D2:                0.120886"
       ]
      },
      {
       "output_type": "stream",
       "stream": "stdout",
       "text": [
        "\n",
        "Actual IRR of top quartile:       0.136432458397\n",
        "Actual IRR of bottom 10 quartile: 0.0982791652695 \n",
        "\n",
        "Average IRR of D3:                0.121501\n",
        "Actual IRR of top quartile:       0.13444777634\n",
        "Actual IRR of bottom 10 quartile: 0.101947130126 \n",
        "\n",
        "Average IRR of D4:                0.123292\n",
        "Actual IRR of top quartile:       0.150788345359\n",
        "Actual IRR of bottom 10 quartile: 0.0957691660713 \n",
        "\n",
        "Average IRR of D5:                0.137635\n",
        "Actual IRR of top quartile:       0.162330317225\n",
        "Actual IRR of bottom 10 quartile: 0.0979051511679 \n",
        "\n"
       ]
      }
     ],
     "prompt_number": 15
    },
    {
     "cell_type": "markdown",
     "metadata": {},
     "source": [
      "Finally we review the performance in a graph."
     ]
    },
    {
     "cell_type": "code",
     "collapsed": false,
     "input": [
      "plt.figure(figsize = (12, 6))\n",
      "plt.plot(x, average_list, label='Average IRR')\n",
      "plt.plot(x, top_list, label='Top quartile IRR')\n",
      "plt.plot(x, bottom_list, label='Bottom quartile IRR')\n",
      "plt.xlabel('Sub-grade, 0:A1 19:D5')\n",
      "plt.ylabel('IRR')           \n",
      "plt.legend(loc='best')\n",
      "plt.title(\"Performance of selective loan selection strategy\")"
     ],
     "language": "python",
     "metadata": {},
     "outputs": [
      {
       "metadata": {},
       "output_type": "pyout",
       "prompt_number": 16,
       "text": [
        "<matplotlib.text.Text at 0x10d82ec90>"
       ]
      },
      {
       "metadata": {},
       "output_type": "display_data",
       "png": "[encoded data removed]",
       "text": [
        "<matplotlib.figure.Figure at 0x10a4bf990>"
       ]
      }
     ],
     "prompt_number": 16
    },
    {
     "cell_type": "code",
     "collapsed": false,
     "input": [],
     "language": "python",
     "metadata": {},
     "outputs": []
    }
   ],
   "metadata": {}
  }
 ]
}