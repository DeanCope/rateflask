{
 "metadata": {
  "name": "",
  "signature": "sha256:6b4b39868a7b721140c65c22775e460b517b49f3e4fdf79e35d7935470025a90"
 },
 "nbformat": 3,
 "nbformat_minor": 0,
 "worksheets": [
  {
   "cells": [
    {
     "cell_type": "heading",
     "level": 1,
     "metadata": {},
     "source": [
      "Mechanics: How does the model work?"
     ]
    },
    {
     "cell_type": "markdown",
     "metadata": {},
     "source": [
      "We'll be going through step-by-step how the rate of return is predicted. To start off, let's look at an loan example."
     ]
    },
    {
     "cell_type": "code",
     "collapsed": false,
     "input": [
      "import numpy as np\n",
      "import pandas as pd\n",
      "import matplotlib.pyplot as plt\n",
      "from sklearn.ensemble import RandomForestRegressor\n",
      "from collections import defaultdict\n",
      "from helpers.cashflow import calc_monthly_payment, get_monthly_payments, get_compound_curve\n",
      "from helpers.preprocessing import process_features\n",
      "from model.model import StatusModel"
     ],
     "language": "python",
     "metadata": {},
     "outputs": [],
     "prompt_number": 1
    },
    {
     "cell_type": "code",
     "collapsed": false,
     "input": [
      "df_3c = pd.read_csv('data/LoanStats3c_securev1.csv', header=True).iloc[:-2, :]\n",
      "df_3b = pd.read_csv('data/LoanStats3b_securev1.csv', header=True).iloc[:-2, :]\n",
      "df_raw = pd.concat((df_3c, df_3b), axis=0)"
     ],
     "language": "python",
     "metadata": {},
     "outputs": [
      {
       "output_type": "stream",
       "stream": "stderr",
       "text": [
        "/Users/savarin/anaconda/envs/py27/lib/python2.7/site-packages/pandas/io/parsers.py:1139: DtypeWarning: Columns (0,19) have mixed types. Specify dtype option on import or set low_memory=False.\n",
        "  data = self._reader.read(nrows)\n",
        "/Users/savarin/anaconda/envs/py27/lib/python2.7/site-packages/pandas/io/parsers.py:1139: DtypeWarning: Columns (0) have mixed types. Specify dtype option on import or set low_memory=False.\n",
        "  data = self._reader.read(nrows)\n"
       ]
      }
     ],
     "prompt_number": 2
    },
    {
     "cell_type": "markdown",
     "metadata": {},
     "source": [
      "Our training set is the set of 3-year loans issued between Jan 2012 and Dec 2014. The loan below has an interest rate of 16.29%, paid on an amortizing principal."
     ]
    },
    {
     "cell_type": "code",
     "collapsed": false,
     "input": [
      "df_3c.iloc[-1:,:][['id', 'loan_amnt', 'int_rate', 'term', 'sub_grade', 'annual_inc', 'issue_d', 'loan_status']]"
     ],
     "language": "python",
     "metadata": {},
     "outputs": [
      {
       "html": [
        "<div style=\"max-height:1000px;max-width:1500px;overflow:auto;\">\n",
        "<table border=\"1\" class=\"dataframe\">\n",
        "  <thead>\n",
        "    <tr style=\"text-align: right;\">\n",
        "      <th></th>\n",
        "      <th>id</th>\n",
        "      <th>loan_amnt</th>\n",
        "      <th>int_rate</th>\n",
        "      <th>term</th>\n",
        "      <th>sub_grade</th>\n",
        "      <th>annual_inc</th>\n",
        "      <th>issue_d</th>\n",
        "      <th>loan_status</th>\n",
        "    </tr>\n",
        "  </thead>\n",
        "  <tbody>\n",
        "    <tr>\n",
        "      <th>235628</th>\n",
        "      <td> 9199665</td>\n",
        "      <td> 10000</td>\n",
        "      <td>  19.20%</td>\n",
        "      <td>  36 months</td>\n",
        "      <td> D3</td>\n",
        "      <td> 46000</td>\n",
        "      <td> Jan-2014</td>\n",
        "      <td> Current</td>\n",
        "    </tr>\n",
        "  </tbody>\n",
        "</table>\n",
        "</div>"
       ],
       "metadata": {},
       "output_type": "pyout",
       "prompt_number": 3,
       "text": [
        "             id  loan_amnt int_rate        term sub_grade  annual_inc  \\\n",
        "235628  9199665      10000   19.20%   36 months        D3       46000   \n",
        "\n",
        "         issue_d loan_status  \n",
        "235628  Jan-2014     Current  "
       ]
      }
     ],
     "prompt_number": 3
    },
    {
     "cell_type": "heading",
     "level": 2,
     "metadata": {},
     "source": [
      "Monthly payments"
     ]
    },
    {
     "cell_type": "markdown",
     "metadata": {},
     "source": [
      "We can calculate the required monthly payment with the formula in the enclosed link. This is the calc_monthly_payment function in cashflow.py, and here we suppose the loan amount was $1.\n",
      "\n",
      "http://en.wikipedia.org/wiki/Amortization_calculator"
     ]
    },
    {
     "cell_type": "code",
     "collapsed": false,
     "input": [
      "print \"Monthly payment:\", calc_monthly_payment(loan_amnt=1, int_rate=0.1920, term=3)"
     ],
     "language": "python",
     "metadata": {},
     "outputs": [
      {
       "output_type": "stream",
       "stream": "stdout",
       "text": [
        "Monthly payment: 0.0367572181573\n"
       ]
      }
     ],
     "prompt_number": 4
    },
    {
     "cell_type": "markdown",
     "metadata": {},
     "source": [
      "This is the payment for one month. For the whole 36 months, we simply have a list of 36 payments."
     ]
    },
    {
     "cell_type": "code",
     "collapsed": false,
     "input": [
      "monthly_payments = np.array(get_monthly_payments(X_int_rate=np.array([0.1920]), date_range_length=36)[0])\n",
      "\n",
      "print \"Cashflow of monthly payments:\\n\", monthly_payments"
     ],
     "language": "python",
     "metadata": {},
     "outputs": [
      {
       "output_type": "stream",
       "stream": "stdout",
       "text": [
        "Cashflow of monthly payments:\n",
        "[ 0.03675722  0.03675722  0.03675722  0.03675722  0.03675722  0.03675722\n",
        "  0.03675722  0.03675722  0.03675722  0.03675722  0.03675722  0.03675722\n",
        "  0.03675722  0.03675722  0.03675722  0.03675722  0.03675722  0.03675722\n",
        "  0.03675722  0.03675722  0.03675722  0.03675722  0.03675722  0.03675722\n",
        "  0.03675722  0.03675722  0.03675722  0.03675722  0.03675722  0.03675722\n",
        "  0.03675722  0.03675722  0.03675722  0.03675722  0.03675722  0.03675722]\n"
       ]
      }
     ],
     "prompt_number": 5
    },
    {
     "cell_type": "markdown",
     "metadata": {},
     "source": [
      "This is the list of payments the borrower would make if there was no default. For the expected rate of return, we would need to adjust these payments by risk of default and by the time value of money."
     ]
    },
    {
     "cell_type": "code",
     "collapsed": false,
     "input": [
      "plt.figure(figsize=(18,6))\n",
      "plt.bar(xrange(36), monthly_payments, alpha=0.25)\n",
      "plt.xlim((0,36))\n",
      "plt.ylim((0, 0.04))\n",
      "plt.xlabel('Monthly payment by month', fontsize=13)"
     ],
     "language": "python",
     "metadata": {},
     "outputs": [
      {
       "metadata": {},
       "output_type": "pyout",
       "prompt_number": 6,
       "text": [
        "<matplotlib.text.Text at 0x1029d1950>"
       ]
      },
      {
       "metadata": {},
       "output_type": "display_data",
       "png": "[encoded data removed]",
       "text": [
        "<matplotlib.figure.Figure at 0x11ea58490>"
       ]
      }
     ],
     "prompt_number": 6
    },
    {
     "cell_type": "heading",
     "level": 2,
     "metadata": {},
     "source": [
      "Compound curve"
     ]
    },
    {
     "cell_type": "markdown",
     "metadata": {},
     "source": [
      "We'll do the time value adjustment first as it's relatively straightforward. We'll be assuming that payments received is reinvested in a instrument that has the same interest. This is a very strong assumption, but we're able to do this as we're only making comparison between loans (and not, say, comparing loans against stocks)\n",
      "\n",
      "If the interest rate is 19.20%, then the monthly interest is simply that figure divided by 12. If we had $1, then after one month it would increase by the monthly interest."
     ]
    },
    {
     "cell_type": "code",
     "collapsed": false,
     "input": [
      "print \"Amount after 1 month:\", (1 + 0.1920 / 12)"
     ],
     "language": "python",
     "metadata": {},
     "outputs": [
      {
       "output_type": "stream",
       "stream": "stdout",
       "text": [
        "Amount after 1 month: 1.016\n"
       ]
      }
     ],
     "prompt_number": 7
    },
    {
     "cell_type": "markdown",
     "metadata": {},
     "source": [
      "After two months, the amount would be the compounded by the monthly interest."
     ]
    },
    {
     "cell_type": "code",
     "collapsed": false,
     "input": [
      "print \"Amount after 2 months:\", (1 + 0.1920 / 12) ** 2"
     ],
     "language": "python",
     "metadata": {},
     "outputs": [
      {
       "output_type": "stream",
       "stream": "stdout",
       "text": [
        "Amount after 2 months: 1.032256\n"
       ]
      }
     ],
     "prompt_number": 8
    },
    {
     "cell_type": "markdown",
     "metadata": {},
     "source": [
      "For the whole 36 months, we'll use the get_compound_curve function in cashflow.py"
     ]
    },
    {
     "cell_type": "code",
     "collapsed": false,
     "input": [
      "compound_curve = np.array(get_compound_curve(X_compound_rate=np.array([0.1920]), date_range_length=36))[0]\n",
      "\n",
      "print \"Compound curve:\\n\", compound_curve"
     ],
     "language": "python",
     "metadata": {},
     "outputs": [
      {
       "output_type": "stream",
       "stream": "stdout",
       "text": [
        "Compound curve:\n",
        "[ 1.74292933  1.71548162  1.68846617  1.66187615  1.63570487  1.60994574\n",
        "  1.58459226  1.55963805  1.53507682  1.51090238  1.48710865  1.46368961\n",
        "  1.44063938  1.41795215  1.39562219  1.37364389  1.3520117   1.33072018\n",
        "  1.30976396  1.28913775  1.26883637  1.2488547   1.22918769  1.20983041\n",
        "  1.19077796  1.17202555  1.15356846  1.13540202  1.11752168  1.09992291\n",
        "  1.08260129  1.06555245  1.0487721   1.032256    1.016       1.        ]\n"
       ]
      }
     ],
     "prompt_number": 9
    },
    {
     "cell_type": "markdown",
     "metadata": {},
     "source": [
      "In particular, note that there would be no compound adjustment at the final month because we would be at final month or maturity of the loan."
     ]
    },
    {
     "cell_type": "code",
     "collapsed": false,
     "input": [
      "plt.figure(figsize=(18,6))\n",
      "plt.bar(xrange(36), compound_curve, alpha=0.25, color='m')\n",
      "\n",
      "plt.xlim((0,36))\n",
      "plt.ylim((0, 1.8))\n",
      "plt.xlabel('Compound adjustment by month', fontsize=13)"
     ],
     "language": "python",
     "metadata": {},
     "outputs": [
      {
       "metadata": {},
       "output_type": "pyout",
       "prompt_number": 10,
       "text": [
        "<matplotlib.text.Text at 0x103a4eed0>"
       ]
      },
      {
       "metadata": {},
       "output_type": "display_data",
       "png": "[encoded data removed]",
       "text": [
        "<matplotlib.figure.Figure at 0x109d00950>"
       ]
      }
     ],
     "prompt_number": 10
    },
    {
     "cell_type": "heading",
     "level": 2,
     "metadata": {},
     "source": [
      "Expected payout"
     ]
    },
    {
     "cell_type": "markdown",
     "metadata": {},
     "source": [
      "We now return to the loan that we looked into at very start."
     ]
    },
    {
     "cell_type": "code",
     "collapsed": false,
     "input": [
      "df_3c.iloc[-1:,:][['id', 'loan_amnt', 'int_rate', 'term', 'sub_grade', 'annual_inc', 'issue_d', 'loan_status']]"
     ],
     "language": "python",
     "metadata": {},
     "outputs": [
      {
       "html": [
        "<div style=\"max-height:1000px;max-width:1500px;overflow:auto;\">\n",
        "<table border=\"1\" class=\"dataframe\">\n",
        "  <thead>\n",
        "    <tr style=\"text-align: right;\">\n",
        "      <th></th>\n",
        "      <th>id</th>\n",
        "      <th>loan_amnt</th>\n",
        "      <th>int_rate</th>\n",
        "      <th>term</th>\n",
        "      <th>sub_grade</th>\n",
        "      <th>annual_inc</th>\n",
        "      <th>issue_d</th>\n",
        "      <th>loan_status</th>\n",
        "    </tr>\n",
        "  </thead>\n",
        "  <tbody>\n",
        "    <tr>\n",
        "      <th>235628</th>\n",
        "      <td> 9199665</td>\n",
        "      <td> 10000</td>\n",
        "      <td>  19.20%</td>\n",
        "      <td>  36 months</td>\n",
        "      <td> D3</td>\n",
        "      <td> 46000</td>\n",
        "      <td> Jan-2014</td>\n",
        "      <td> Current</td>\n",
        "    </tr>\n",
        "  </tbody>\n",
        "</table>\n",
        "</div>"
       ],
       "metadata": {},
       "output_type": "pyout",
       "prompt_number": 11,
       "text": [
        "             id  loan_amnt int_rate        term sub_grade  annual_inc  \\\n",
        "235628  9199665      10000   19.20%   36 months        D3       46000   \n",
        "\n",
        "         issue_d loan_status  \n",
        "235628  Jan-2014     Current  "
       ]
      }
     ],
     "prompt_number": 11
    },
    {
     "cell_type": "markdown",
     "metadata": {},
     "source": [
      "This loan was issued in Jan 2014, and the loan status is current. Viewed from Jan 2014, this was 12 months ago. In our model, we assume that should the same loan be issued today, in 12 months' time it would have a loan status of current.\n",
      "\n",
      "The loan status being current means that the probability we would be receiving this payment is 1. If the loan was not current, then we assume that the probability we would receive this payment is given by the schedule at the bottom of the enclosed link:\n",
      "\n",
      "https://www.lendingclub.com/info/demand-and-credit-profile.action\n",
      "\n",
      "For example, if this loan has already defaulted, then there is only an 8% chance we would receive this payment. This probability of payment received would be our target for to apply a Random Forest Regressor. Before doing so, we pre-process the data to fill in clean up the data and fill in missing values."
     ]
    },
    {
     "cell_type": "code",
     "collapsed": false,
     "input": [
      "df = process_features(df_raw)"
     ],
     "language": "python",
     "metadata": {},
     "outputs": [
      {
       "output_type": "stream",
       "stream": "stderr",
       "text": [
        "helpers/preprocessing.py:138: SettingWithCopyWarning: A value is trying to be set on a copy of a slice from a DataFrame.\n",
        "Try using .loc[row_index,col_indexer] = value instead\n",
        "  'Charged Off': 0.})\n",
        "helpers/preprocessing.py:140: SettingWithCopyWarning: A value is trying to be set on a copy of a slice from a DataFrame.\n",
        "Try using .loc[row_index,col_indexer] = value instead\n",
        "  df['int_rate'] = df['int_rate'].map(lambda x: float(str(x).strip('%')) / 100)\n"
       ]
      },
      {
       "output_type": "stream",
       "stream": "stderr",
       "text": [
        "helpers/preprocessing.py:142: SettingWithCopyWarning: A value is trying to be set on a copy of a slice from a DataFrame.\n",
        "Try using .loc[row_index,col_indexer] = value instead\n",
        "  df['term'] = df['term'].map(lambda x: int(str(x).strip(' months')))\n",
        "helpers/preprocessing.py:146: SettingWithCopyWarning: A value is trying to be set on a copy of a slice from a DataFrame.\n",
        "Try using .loc[row_index,col_indexer] = value instead\n",
        "  df['emp_length'] = df['emp_length'].map(lambda x: '0.5 years' if x == '< 1 year' else x)\n"
       ]
      },
      {
       "output_type": "stream",
       "stream": "stderr",
       "text": [
        "helpers/preprocessing.py:147: SettingWithCopyWarning: A value is trying to be set on a copy of a slice from a DataFrame.\n",
        "Try using .loc[row_index,col_indexer] = value instead\n",
        "  df['emp_length'] = df['emp_length'].map(lambda x: '10 years' if x == '10+ years' else x)\n",
        "helpers/preprocessing.py:148: SettingWithCopyWarning: A value is trying to be set on a copy of a slice from a DataFrame.\n",
        "Try using .loc[row_index,col_indexer] = value instead\n",
        "  df['emp_length'] = df['emp_length'].map(lambda x: '-1 years' if x == 'n/a' else x)\n"
       ]
      },
      {
       "output_type": "stream",
       "stream": "stderr",
       "text": [
        "helpers/preprocessing.py:149: SettingWithCopyWarning: A value is trying to be set on a copy of a slice from a DataFrame.\n",
        "Try using .loc[row_index,col_indexer] = value instead\n",
        "  df['emp_length'] = df['emp_length'].map(lambda x: float(x.strip(' years')))\n",
        "helpers/preprocessing.py:154: SettingWithCopyWarning: A value is trying to be set on a copy of a slice from a DataFrame.\n",
        "Try using .loc[row_index,col_indexer] = value instead\n",
        "  df['emp_length'] = df['emp_length'].map(lambda x: emp_length_mean if x < 0 else x)\n"
       ]
      },
      {
       "output_type": "stream",
       "stream": "stderr",
       "text": [
        "helpers/preprocessing.py:156: SettingWithCopyWarning: A value is trying to be set on a copy of a slice from a DataFrame.\n",
        "Try using .loc[row_index,col_indexer] = value instead\n",
        "  df['annual_inc'] = df['annual_inc'].map(lambda x: float(x) / 12)\n",
        "/Users/savarin/anaconda/envs/py27/lib/python2.7/site-packages/pandas/core/frame.py:2302: SettingWithCopyWarning: A value is trying to be set on a copy of a slice from a DataFrame\n",
        "  **kwargs)\n"
       ]
      },
      {
       "output_type": "stream",
       "stream": "stderr",
       "text": [
        "helpers/preprocessing.py:159: SettingWithCopyWarning: A value is trying to be set on a copy of a slice from a DataFrame.\n",
        "Try using .loc[row_index,col_indexer] = value instead\n",
        "  df['fico_range_low'] = (df['fico_range_low'] + df['fico_range_high']) / 2.\n",
        "helpers/preprocessing.py:167: SettingWithCopyWarning: A value is trying to be set on a copy of a slice from a DataFrame.\n",
        "Try using .loc[row_index,col_indexer] = value instead\n",
        "  else x['earliest_cr_line'], axis=1)\n"
       ]
      },
      {
       "output_type": "stream",
       "stream": "stderr",
       "text": [
        "helpers/preprocessing.py:171: SettingWithCopyWarning: A value is trying to be set on a copy of a slice from a DataFrame.\n",
        "Try using .loc[row_index,col_indexer] = value instead\n",
        "  '%b-%Y')).days / 30, axis=1)\n",
        "helpers/preprocessing.py:175: SettingWithCopyWarning: A value is trying to be set on a copy of a slice from a DataFrame.\n",
        "Try using .loc[row_index,col_indexer] = value instead\n",
        "  df['revol_util'] = df['revol_util'].map(lambda x: float(str(x).strip('%')) / 100)\n"
       ]
      },
      {
       "output_type": "stream",
       "stream": "stderr",
       "text": [
        "helpers/preprocessing.py:180: SettingWithCopyWarning: A value is trying to be set on a copy of a slice from a DataFrame.\n",
        "Try using .loc[row_index,col_indexer] = value instead\n",
        "  df['revol_util'] = df['revol_util'].fillna(revol_util_mean)\n",
        "helpers/preprocessing.py:185: SettingWithCopyWarning: A value is trying to be set on a copy of a slice from a DataFrame.\n",
        "Try using .loc[row_index,col_indexer] = value instead\n",
        "  df['last_delinq'] = df['last_delinq'].map(lambda x: -1 if x == 'n/a' else x)\n"
       ]
      },
      {
       "output_type": "stream",
       "stream": "stderr",
       "text": [
        "helpers/preprocessing.py:187: SettingWithCopyWarning: A value is trying to be set on a copy of a slice from a DataFrame.\n",
        "Try using .loc[row_index,col_indexer] = value instead\n",
        "  df['last_record'] = df['last_record'].map(lambda x: -1 if x == 'n/a' else x)\n",
        "helpers/preprocessing.py:189: SettingWithCopyWarning: A value is trying to be set on a copy of a slice from a DataFrame.\n",
        "Try using .loc[row_index,col_indexer] = value instead\n",
        "  df['last_derog'] = df['last_derog'].map(lambda x: -1 if x == 'n/a' else x)\n"
       ]
      }
     ],
     "prompt_number": 12
    },
    {
     "cell_type": "markdown",
     "metadata": {},
     "source": [
      "Since this loan is of grade D, we train our model on all loans of grade D issued in Jan 2014. This involves going into the details of our StatusModel class."
     ]
    },
    {
     "cell_type": "code",
     "collapsed": false,
     "input": [
      "model = RandomForestRegressor\n",
      "parameters = {'n_estimators':100, \n",
      "              'max_depth':10}\n",
      "\n",
      "features = ['loan_amnt', 'emp_length', 'monthly_inc', 'dti',\n",
      "            'fico', 'earliest_cr_line', 'open_acc', 'total_acc',\n",
      "            'revol_bal', 'revol_util', 'inq_last_6mths',\n",
      "            'delinq_2yrs', 'pub_rec', 'collect_12mths',\n",
      "            'last_delinq', 'last_record', 'last_derog',\n",
      "            'purpose_debt', 'purpose_credit', 'purpose_home',\n",
      "            'purpose_other', 'purpose_buy', 'purpose_biz',\n",
      "            'purpose_medic', 'purpose_car', 'purpose_move',\n",
      "            'purpose_vac', 'purpose_house', 'purpose_wed', 'purpose_energy',\n",
      "            'home_mortgage', 'home_rent', 'home_own',\n",
      "            'home_other', 'home_none', 'home_any']\n",
      "\n",
      "grade_range = ['D']\n",
      "date_range = ['Jan-2014']"
     ],
     "language": "python",
     "metadata": {},
     "outputs": [],
     "prompt_number": 13
    },
    {
     "cell_type": "code",
     "collapsed": false,
     "input": [
      "grade_dict = defaultdict(list)\n",
      "\n",
      "for grade in grade_range:\n",
      "    for month in date_range:\n",
      "        df_select = df[(df['grade'].isin([grade]))\n",
      "                     & (df['issue_d'].isin([month]))]\n",
      "\n",
      "        X = df_select[features].values\n",
      "        y = df_select['loan_status'].values\n",
      "\n",
      "        model = model(**parameters)\n",
      "        model.fit(X, y)\n",
      "\n",
      "        grade_dict[grade].append(model)\n",
      "    print grade, 'training completed...'"
     ],
     "language": "python",
     "metadata": {},
     "outputs": [
      {
       "output_type": "stream",
       "stream": "stdout",
       "text": [
        "D training completed...\n"
       ]
      }
     ],
     "prompt_number": 14
    },
    {
     "cell_type": "markdown",
     "metadata": {},
     "source": [
      "We now predict the status of our original loan after 12 months."
     ]
    },
    {
     "cell_type": "code",
     "collapsed": false,
     "input": [
      "df_select.iloc[-1:,:][['id', 'loan_amnt', 'int_rate', 'term', 'sub_grade', 'monthly_inc', 'issue_d', 'loan_status']]"
     ],
     "language": "python",
     "metadata": {},
     "outputs": [
      {
       "html": [
        "<div style=\"max-height:1000px;max-width:1500px;overflow:auto;\">\n",
        "<table border=\"1\" class=\"dataframe\">\n",
        "  <thead>\n",
        "    <tr style=\"text-align: right;\">\n",
        "      <th></th>\n",
        "      <th>id</th>\n",
        "      <th>loan_amnt</th>\n",
        "      <th>int_rate</th>\n",
        "      <th>term</th>\n",
        "      <th>sub_grade</th>\n",
        "      <th>monthly_inc</th>\n",
        "      <th>issue_d</th>\n",
        "      <th>loan_status</th>\n",
        "    </tr>\n",
        "  </thead>\n",
        "  <tbody>\n",
        "    <tr>\n",
        "      <th>235628</th>\n",
        "      <td> 9199665</td>\n",
        "      <td> 10000</td>\n",
        "      <td> 0.192</td>\n",
        "      <td> 36</td>\n",
        "      <td> D3</td>\n",
        "      <td> 3833.333333</td>\n",
        "      <td> Jan-2014</td>\n",
        "      <td> 1</td>\n",
        "    </tr>\n",
        "  </tbody>\n",
        "</table>\n",
        "</div>"
       ],
       "metadata": {},
       "output_type": "pyout",
       "prompt_number": 15,
       "text": [
        "             id  loan_amnt  int_rate  term sub_grade  monthly_inc   issue_d  \\\n",
        "235628  9199665      10000     0.192    36        D3  3833.333333  Jan-2014   \n",
        "\n",
        "        loan_status  \n",
        "235628            1  "
       ]
      }
     ],
     "prompt_number": 15
    },
    {
     "cell_type": "code",
     "collapsed": false,
     "input": [
      "X = df_select.iloc[-1:,:][features].values\n",
      "\n",
      "print \"Probability of receiving payment of loan 9199665 after 12 months:\", model.predict(X)"
     ],
     "language": "python",
     "metadata": {},
     "outputs": [
      {
       "output_type": "stream",
       "stream": "stdout",
       "text": [
        "Probability of receiving payment of loan 9199665 after 12 months: [ 0.9735888]\n"
       ]
      }
     ],
     "prompt_number": 16
    },
    {
     "cell_type": "markdown",
     "metadata": {},
     "source": [
      "What we've done so far is train our model on all loans of grade D issued in Jan 2014, and using our model, predict that should loan 9199665 be issued today, there would be a 97.4% of receiving that payment in Jan 2016.\n",
      "\n",
      "To get the probability of payment being received for the whole loan period, we repeat the process for 36 months."
     ]
    },
    {
     "cell_type": "code",
     "collapsed": false,
     "input": [
      "model = StatusModel(model=RandomForestRegressor,\n",
      "                    parameters={'n_estimators':100,\n",
      "                                 'max_depth':10})\n",
      "\n",
      "model.grade_range = ['D']\n",
      "model.date_range = ['Dec-2014', 'Nov-2014', 'Oct-2014',\n",
      "                    'Sep-2014', 'Aug-2014', 'Jul-2014',\n",
      "                    'Jun-2014', 'May-2014', 'Apr-2014',\n",
      "                    'Mar-2014', 'Feb-2014', 'Jan-2014',\n",
      "                    'Dec-2013', 'Nov-2013', 'Oct-2013',\n",
      "                    'Sep-2013', 'Aug-2013', 'Jul-2013',\n",
      "                    'Jun-2013', 'May-2013', 'Apr-2013',\n",
      "                    'Mar-2013', 'Feb-2013', 'Jan-2013',\n",
      "                    'Dec-2012', 'Nov-2012', 'Oct-2012',\n",
      "                    'Sep-2012', 'Aug-2012', 'Jul-2012',\n",
      "                    'Jun-2012', 'May-2012', 'Apr-2012',\n",
      "                    'Mar-2012', 'Feb-2012', 'Jan-2012']"
     ],
     "language": "python",
     "metadata": {},
     "outputs": [],
     "prompt_number": 17
    },
    {
     "cell_type": "code",
     "collapsed": false,
     "input": [
      "model.train_model(df)"
     ],
     "language": "python",
     "metadata": {},
     "outputs": [
      {
       "output_type": "stream",
       "stream": "stdout",
       "text": [
        "D training completed...\n"
       ]
      }
     ],
     "prompt_number": 18
    },
    {
     "cell_type": "code",
     "collapsed": false,
     "input": [
      "X_sub_grade = df_select.iloc[-1:,:]['sub_grade'].values\n",
      "expected_payout = np.array(model.get_expected_payout(X, X_sub_grade))[0]\n",
      "\n",
      "print \"Expected payout:\\n\", expected_payout"
     ],
     "language": "python",
     "metadata": {},
     "outputs": [
      {
       "output_type": "stream",
       "stream": "stdout",
       "text": [
        "Expected payout:\n",
        "[ 0.99178735  0.98364215  0.97556384  0.96755188  0.95960571  0.95172481\n",
        "  0.94390862  0.93615663  0.92846831  0.92084312  0.91328056  0.90578011\n",
        "  0.89834125  0.89096349  0.88364632  0.87638924  0.86919176  0.8620534\n",
        "  0.85497365  0.84795206  0.84098812  0.83408138  0.82723136  0.8204376\n",
        "  0.81369964  0.80701701  0.80038926  0.79381594  0.78729661  0.78083082\n",
        "  0.77441813  0.7680581   0.76175031  0.75549432  0.74928971  0.74313606]\n"
       ]
      }
     ],
     "prompt_number": 19
    },
    {
     "cell_type": "code",
     "collapsed": false,
     "input": [
      "plt.figure(figsize=(18,6))\n",
      "plt.bar(xrange(36), expected_payout, alpha=0.25, color='r')\n",
      "\n",
      "plt.xlim((0,36))\n",
      "plt.ylim((0, 1.0))\n",
      "plt.xlabel('Expected payout by month', fontsize=13)"
     ],
     "language": "python",
     "metadata": {},
     "outputs": [
      {
       "metadata": {},
       "output_type": "pyout",
       "prompt_number": 20,
       "text": [
        "<matplotlib.text.Text at 0x10b6c5610>"
       ]
      },
      {
       "metadata": {},
       "output_type": "display_data",
       "png": "[encoded data removed]",
       "text": [
        "<matplotlib.figure.Figure at 0x10c98a150>"
       ]
      }
     ],
     "prompt_number": 20
    },
    {
     "cell_type": "heading",
     "level": 2,
     "metadata": {},
     "source": [
      "Rate of return"
     ]
    },
    {
     "cell_type": "markdown",
     "metadata": {},
     "source": [
      "For the final step, we multiply the monthly payment by the compound adjustment to account for time value, and by the expected payout to account for risk of default."
     ]
    },
    {
     "cell_type": "code",
     "collapsed": false,
     "input": [
      "expected_cashflows = monthly_payments * compound_curve * expected_payout\n",
      "\n",
      "print \"Expected cashflows:\\n\", expected_cashflows"
     ],
     "language": "python",
     "metadata": {},
     "outputs": [
      {
       "output_type": "stream",
       "stream": "stdout",
       "text": [
        "Expected cashflows:\n",
        "[ 0.06353909  0.06202487  0.06054673  0.05910382  0.0576953   0.05632034\n",
        "  0.05497815  0.05366795  0.05238897  0.05114047  0.04992172  0.04873202\n",
        "  0.04757067  0.046437    0.04533034  0.04425006  0.04319552  0.04216611\n",
        "  0.04116124  0.04018031  0.03922276  0.03828803  0.03737557  0.03648486\n",
        "  0.03561538  0.03476661  0.03393808  0.03312929  0.03233977  0.03156907\n",
        "  0.03081674  0.03008233  0.02936543  0.02866561  0.02798247  0.02731561]\n"
       ]
      }
     ],
     "prompt_number": 21
    },
    {
     "cell_type": "code",
     "collapsed": false,
     "input": [
      "plt.figure(figsize=(18,6))\n",
      "plt.bar(xrange(36), expected_payout, alpha=0.25, color='g')\n",
      "\n",
      "plt.xlim((0,36))\n",
      "plt.ylim((0, 1.0))\n",
      "plt.xlabel('Expected cashflow by month', fontsize=13)"
     ],
     "language": "python",
     "metadata": {},
     "outputs": [
      {
       "metadata": {},
       "output_type": "pyout",
       "prompt_number": 22,
       "text": [
        "<matplotlib.text.Text at 0x10e139310>"
       ]
      },
      {
       "metadata": {},
       "output_type": "display_data",
       "png": "[encoded data removed]",
       "text": [
        "<matplotlib.figure.Figure at 0x10e1c3210>"
       ]
      }
     ],
     "prompt_number": 22
    },
    {
     "cell_type": "markdown",
     "metadata": {},
     "source": [
      "To get the rate of return, we simply add up all the cashflows, take the cube root, and finally subtract 1."
     ]
    },
    {
     "cell_type": "code",
     "collapsed": false,
     "input": [
      "rate_of_return = (np.sum(expected_cashflows))**(1/3.) - 1\n",
      "\n",
      "print \"Rate of return:\", rate_of_return"
     ],
     "language": "python",
     "metadata": {},
     "outputs": [
      {
       "output_type": "stream",
       "stream": "stdout",
       "text": [
        "Rate of return: 0.156624220874\n"
       ]
      }
     ],
     "prompt_number": 23
    },
    {
     "cell_type": "markdown",
     "metadata": {},
     "source": [
      "To conclude, our model predicts that loan 9199665 has an expected rate of return of 15.66%, based of the headline Lending Club rate of 19.20%."
     ]
    },
    {
     "cell_type": "code",
     "collapsed": false,
     "input": [],
     "language": "python",
     "metadata": {},
     "outputs": [],
     "prompt_number": 23
    }
   ],
   "metadata": {}
  }
 ]
}